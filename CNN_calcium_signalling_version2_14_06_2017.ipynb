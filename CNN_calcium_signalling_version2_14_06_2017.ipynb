{
 "cells": [
  {
   "cell_type": "code",
   "execution_count": 1,
   "metadata": {
    "collapsed": false,
    "deletable": true,
    "editable": true
   },
   "outputs": [
    {
     "name": "stdout",
     "output_type": "stream",
     "text": [
      "Populating the interactive namespace from numpy and matplotlib\n"
     ]
    },
    {
     "name": "stderr",
     "output_type": "stream",
     "text": [
      "Using TensorFlow backend.\n"
     ]
    }
   ],
   "source": [
    "%pylab inline\n",
    "import os\n",
    "import pickle\n",
    "os.environ[\"CUDA_VISIBLE_DEVICES\"] = \"1\"\n",
    "import keras\n",
    "from keras.layers import convolutional, Dense, Activation,pooling\n",
    "from keras.layers import Input, merge, Convolution2D, MaxPooling2D, UpSampling2D, Flatten, Dropout\n",
    "from keras.optimizers import Adam, SGD\n",
    "from keras.models import Sequential, Model\n",
    "from keras.callbacks import Callback, EarlyStopping, ModelCheckpoint, LearningRateScheduler\n",
    "from keras.regularizers import l2\n",
    "from keras import backend as K\n",
    "from keras.utils import np_utils\n",
    "import tensorflow as tf\n",
    "from keras.backend.tensorflow_backend import set_session\n",
    "import cPickle as pickle\n",
    "import scipy.io\n",
    "import numpy as np\n",
    "import matplotlib.pyplot as plt\n",
    "import h5py\n",
    "\n",
    "\n",
    "config = tf.ConfigProto()\n",
    "#config.gpu_options.per_process_gpu_memory_fraction = 1.0\n",
    "set_session(tf.Session(config=config))\n"
   ]
  },
  {
   "cell_type": "code",
   "execution_count": 2,
   "metadata": {
    "collapsed": false,
    "deletable": true,
    "editable": true
   },
   "outputs": [
    {
     "name": "stdout",
     "output_type": "stream",
     "text": [
      "Enter data directory path: \"/scratch/barbieri/DATA_CNN_networks/Data/\"\n"
     ]
    }
   ],
   "source": [
    "###################################### LOADING DATA ##############################\n",
    "\n",
    "#USER INTERFACE \n",
    "\n",
    "### Create a dictionary that contains all the dictiories within each dataset (.mat file) (workspace) we want to load ###\n",
    "#SELECT data directory\n",
    "dataDir = input(\"Enter data directory path: \")  #dataDir = \"/scratch/barbieri/DATA_CNN_networks/Data/\"\n",
    "# \"/scratch/barbieri/DATA_CNN_networks/data_pickle/\"\n",
    "\n",
    "\n",
    "#Load data\n",
    "Load_Data = {}  \n",
    "for i in range(0, len(os.listdir( dataDir ))):  \n",
    "    Load_Data[i] = {}  #Dictionary for a single workspace\n"
   ]
  },
  {
   "cell_type": "code",
   "execution_count": 157,
   "metadata": {
    "collapsed": true,
    "deletable": true,
    "editable": true
   },
   "outputs": [],
   "source": [
    "def CNN_parameters():\n",
    "    # Please edit parameters\n",
    "    \n",
    "    ## =========================================================================\n",
    "    # Parameters for the CNN\n",
    "    \n",
    "    # Define dictionary for the parameters\n",
    "    PARAMETERS = {}\n",
    "    \n",
    "    # Number of classes\n",
    "    PARAMETERS['n_classes'] = 6  #3 or 6\n",
    "    \n",
    "    # Choose Dropout value\n",
    "    PARAMETERS['dropout'] = 0.4\n",
    "    \n",
    "    # Define number of epochs\n",
    "    PARAMETERS['n_epoch'] = 2 #800\n",
    "         \n",
    "    # Define batch size\n",
    "    PARAMETERS['batch_size'] = 1 #50\n",
    "            \n",
    "    # Define decay value to be tested: write in array format\n",
    "    PARAMETERS['decay_value'] = [0.01]#, 0.001, 0.0001, 0.00001]\n",
    "    \n",
    "    # Define learning rate\n",
    "    PARAMETERS['learning_rate'] = 0.00001\n",
    "    \n",
    "    # Define the number of iteration per CNN\n",
    "    PARAMETERS['n_iteration'] = 1\n",
    "            \n",
    "    ## =========================================================================\n",
    "    # Parameters for the data\n",
    "            \n",
    "    # Choose the number of curves to use as training data\n",
    "    PARAMETERS['n_training_data'] = 1800\n",
    "\n",
    "    # Choose number of point to downsample an intensity curve\n",
    "    PARAMETERS['points_curve'] = 128\n",
    "    \n",
    "    return PARAMETERS"
   ]
  },
  {
   "cell_type": "code",
   "execution_count": 29,
   "metadata": {
    "collapsed": false,
    "deletable": true,
    "editable": true
   },
   "outputs": [],
   "source": [
    "def data_dict(Load_Data):\n",
    "    \n",
    "    #### Define another dictionary for storing intensity curves and classes ### \n",
    "    #From each dataset, the intensity curve and classes are extracted and stored in another dictionary\n",
    "    DATA = {}\n",
    "    N_of_file =len(os.listdir( dataDir ))\n",
    "    for i in range(0, N_of_file):\n",
    "            DATA[i] = {}\n",
    "\n",
    "    \n",
    "    #Find the minimun length among all the intensity curves\n",
    "    Int_curve_lengths = np.zeros(N_of_file)\n",
    "    for i in range(0, N_of_file):\n",
    "        Int_curve_lengths [i] = (len(Load_Data[i]['RAWDATA'][0,0]['files'][0,0][0]['intensity'][0][0]))\n",
    "    Int_curve_len = (min(Int_curve_lengths.astype(int)))\n",
    "\n",
    "\n",
    "    #### Fill the dictionary ###\n",
    "    Ncell_classified = 200 #Number of classified cells per dataset\n",
    "    for i in range(0, N_of_file):\n",
    "        #Decision array for each dataset\n",
    "        DATA[i]['decision'] = Load_Data[i]['decisionlist']   \n",
    "        #Size of the matrix to store intensity values\n",
    "        NumofData = len(Load_Data[i]['RAWDATA'][0,0]['files'][0,0][0]['intensity'])\n",
    "        #Empty matrix to store all the intensity values of all the cells\n",
    "        DATA[i]['intensity'] = np.zeros((Ncell_classified, Int_curve_len))    \n",
    "        for k in range(0, Ncell_classified): #Only the first 200 were classified\n",
    "            DATA[i]['intensity'][k,:] = Load_Data[i]['RAWDATA'][0,0]['files'][0,0][0]['intensity'][k][0,0:900] #copy the first 900 values\n",
    "\n",
    "\n",
    "    ### Classes array: contain values from all the data ###\n",
    "    Classes=[]\n",
    "    for i in range( 0, N_of_file ):\n",
    "        Classes = np.append(Classes , DATA[i]['decision']).astype(int)\n",
    "\n",
    "\n",
    "    ### Create matrix to store intensity values coming from all the data ###    \n",
    "    NTot_Data = N_of_file*Ncell_classified\n",
    "    Intensity = np.zeros((0, DATA[0]['intensity'].shape[1]))\n",
    "    for i in range( 0, N_of_file ):\n",
    "        Intensity = np.append(Intensity, DATA[i]['intensity'][:,:], axis=0)    \n",
    "\n",
    "    ### ELIMINATE intensity profiles with NaN values and corresponding classes ###\n",
    "    nan_indices = np.where(np.isnan(Intensity))\n",
    "    Intensity = np.delete(Intensity,nan_indices[0], axis = 0)\n",
    "    Classes = np.delete(Classes,nan_indices[0], axis = 0)\n",
    "    print('Intensity curve shape =', Intensity.shape)\n",
    "    print('Classes shape =', Classes.shape)\n",
    "    #Redefine the total number of data\n",
    "    total = len(Intensity)\n",
    "\n",
    "    return Intensity, Classes, Int_curve_len, total"
   ]
  },
  {
   "cell_type": "code",
   "execution_count": 30,
   "metadata": {
    "collapsed": false,
    "deletable": true,
    "editable": true
   },
   "outputs": [],
   "source": [
    "# DUPLICATE Intensity profiles adding noise to the second group\n",
    "def duplicate_data(total, Intensity, Classes, Int_curve_len):\n",
    "\n",
    "    Intensity_duplicated_noise = np.zeros((2*total, Int_curve_len ))\n",
    "    Intensity_duplicated_noise[0:total,:] = Intensity\n",
    "    Intensity_duplicated_noise[total:2*total,:] = Intensity + np.random.randn(Int_curve_len)*0.02\n",
    "\n",
    "    plt.figure(1)\n",
    "    plt.subplot(211)\n",
    "    plt.title('Calcium signalling without and with noise added')\n",
    "    plot(Intensity_duplicated_noise[1])\n",
    "    plt.subplot(212)\n",
    "    plot(Intensity_duplicated_noise[991])\n",
    "    plt.xlabel('Frame')\n",
    "    #plt.savefig('13_06_2017_Curve_VS_noiseCurve.png')\n",
    "    plt.show()\n",
    "\n",
    "    #Redefine the total number of data\n",
    "    total = len(Intensity_duplicated_noise)\n",
    "\n",
    "    #DUPLICATE CLASSES\n",
    "    Classes_duplicated = np.append(Classes, Classes)\n",
    "    print('total classes = ', Classes_duplicated.shape)\n",
    "    \n",
    "    return Intensity_duplicated_noise, Classes_duplicated, total"
   ]
  },
  {
   "cell_type": "code",
   "execution_count": 31,
   "metadata": {
    "collapsed": true,
    "deletable": true,
    "editable": true
   },
   "outputs": [],
   "source": [
    "#Perform the DOWNSAMPLING of the data: 256 or 128 points\n",
    "def downsample(Intensity, PARAMETERS):    \n",
    "    if PARAMETERS['points_curve'] == 256:   \n",
    "        data1 = Intensity[:,0:768]\n",
    "        step = 3\n",
    "        data_downsample = data1[:,::step]\n",
    "        #Redefine len of the Intensity curves:\n",
    "        Int_profile_len = len(data_downsample[0])        \n",
    "    elif PARAMETERS['points_curve'] == 128:\n",
    "        data1 = Intensity[:,0:896]\n",
    "        step = 7\n",
    "        data_downsample = data1[:,::step]\n",
    "        #Redefine len of the Intensity curves:\n",
    "        Int_profile_len = len(data_downsample[0])       \n",
    "    return data_downsample, Int_profile_len"
   ]
  },
  {
   "cell_type": "code",
   "execution_count": 161,
   "metadata": {
    "collapsed": false,
    "deletable": true,
    "editable": true,
    "scrolled": true
   },
   "outputs": [],
   "source": [
    "def run_CNN(Data, Classes, total, weights_file, PARAMETERS):\n",
    "    \n",
    "    #Matrix to store test_cl and test_dt  \n",
    "    n_testing_data = total - PARAMETERS['n_training_data']\n",
    "    print('here', n_testing_data)\n",
    "    test_dt = np.zeros((( n_testing_data, PARAMETERS['points_curve'], PARAMETERS['n_iteration'] )))  #180 data, 256 points for each data, 5 iterations\n",
    "    test_cl = np.zeros(( PARAMETERS['n_iteration'],n_testing_data ))\n",
    "    \n",
    "    #Dictionary to store the restults after each iteration\n",
    "    RESULTS = {} \n",
    "    for iteration in range(PARAMETERS['n_iteration']):\n",
    "        RESULTS[iteration] = {} #dictionary to store the results from the CNN\n",
    "    \n",
    "    #Dictionary to store the predictions (out)\n",
    "    out = {} \n",
    "    for iteration in range(PARAMETERS['n_iteration']):\n",
    "        out[iteration] = {} #dictionary to store the results from the CNN\n",
    "\n",
    "    #Run the CNN for a certain number of iterations\n",
    "    for iteration in range(PARAMETERS['n_iteration']):\n",
    "        print('Iteration: ', iteration)\n",
    "        \n",
    "        ################### Distribute all values randomly ##################   \n",
    "        randseq = np.random.choice(np.arange(0,total),total,replace=False)\n",
    "        \n",
    "        #Data randomly organized\n",
    "        data_random = np.copy(Data)  \n",
    "        data_random = data_random #[randseq,:]\n",
    "        \n",
    "        #Respective Classes \n",
    "        Classes_random = np.copy(Classes)\n",
    "        Classes_random = Classes_random #[randseq]   \n",
    "        \n",
    "        #EXAMPLE\n",
    "        # Data - inputs, 10000 samples of 128-dimensional vectors\n",
    "        # Classes - labels, 10000 samples of scalars from the set {0, 1, 2}\n",
    "\n",
    "        # process the data to fit in a keras CNN properly\n",
    "        # input data needs to be (N, C, X, Y) - shaped where\n",
    "        # N - number of samples\n",
    "        # C - number of channels per sample\n",
    "        # (X, Y) - sample size\n",
    "\n",
    "        #train_dt_reshape = train_dt_reshape.reshape((10000, 128,1, 1))\n",
    "        # output labels should be one-hot vectors - ie,\n",
    "        # 0 -> [1, 0, 0]\n",
    "        # 1 -> [0, 1, 0]\n",
    "        # 2 -> [0, 0, 1]\n",
    "        # this operation changes the shape of y from (10000,1) to (10000, 3)       \n",
    "        \n",
    "        \n",
    "        ######################### load file - TRAINING data ####################\n",
    "        #Data\n",
    "\n",
    "        train_dt = data_random[0:PARAMETERS['n_training_data'],:]\n",
    "        X = np.copy(train_dt)   \n",
    "        #Classes\n",
    "        train_cl = Classes_random[0:PARAMETERS['n_training_data']]        \n",
    "        y = np.copy(train_cl) \n",
    "\n",
    "\n",
    "        # process the data to fit in a keras CNN properly\n",
    "        # input data needs to be (N, C, X, Y) - shaped where\n",
    "        # N - number of samples\n",
    "        # C - number of channels per sample\n",
    "        # (X, Y) - sample size\n",
    "        X = X.reshape((PARAMETERS['n_training_data'], Int_profile_len,1, 1))\n",
    "        y = np_utils.to_categorical(y)\n",
    "\n",
    "        ######################### load file - TESTING data ####################\n",
    "\n",
    "        #Data\n",
    "        test_dt[:,:, iteration]= data_random[PARAMETERS['n_training_data']:total,:]        \n",
    "        test_dt_reshape = np.copy(test_dt[:,:,iteration])\n",
    "        \n",
    "        print('test_dt_reshape', test_dt_reshape.shape)\n",
    "\n",
    "        #Classes\n",
    "        test_cl[iteration,:] = Classes_random[PARAMETERS['n_training_data']:total] \n",
    "        test_cl_reshape = np.copy(test_cl[iteration,:])\n",
    "        \n",
    "        # process the data to fit in a keras CNN properly\n",
    "        # input data needs to be (N, C, X, Y) - shaped where\n",
    "        # N - number of samples\n",
    "        # C - number of channels per sample\n",
    "        # (X, Y) - sample size    \n",
    "        test_dt_reshape = test_dt_reshape.reshape((n_testing_data, Int_profile_len,1, 1)) \n",
    "        test_cl_reshape = np_utils.to_categorical(test_cl_reshape)\n",
    "\n",
    "        \n",
    "        #RUN THE CNN network\n",
    "        for i in range(0,len(PARAMETERS['decay_value'])):\n",
    "            print('decay value = ', PARAMETERS['decay_value'][i])\n",
    "            RESULTS[iteration][i], out[iteration][i] = CNN(X, y, test_dt_reshape, test_cl_reshape, n_testing_data, Int_profile_len, weights_file, PARAMETERS, i, iteration)\n",
    "\n",
    "\n",
    "    return RESULTS, out, test_dt, test_cl"
   ]
  },
  {
   "cell_type": "code",
   "execution_count": 91,
   "metadata": {
    "collapsed": false,
    "deletable": true,
    "editable": true
   },
   "outputs": [],
   "source": [
    "# define a CNN\n",
    "def CNN(X, y, test_dt_reshape, test_cl_reshape, n_testing_data, Int_profile_len, weights_file, PARAMETERS, i, iteration):\n",
    "\n",
    "    \n",
    "    cnn = Sequential()\n",
    "    cnn.add(Convolution2D(64, 3, 1,border_mode=\"same\",activation=\"relu\",input_shape=(Int_profile_len,1, 1)))\n",
    "    cnn.add(Convolution2D(64, 3, 1, border_mode=\"same\", activation=\"relu\"))\n",
    "    cnn.add(MaxPooling2D(pool_size=(2,1)))\n",
    "\n",
    "    cnn.add(Convolution2D(128, 3, 1, border_mode=\"same\", activation=\"relu\"))\n",
    "    cnn.add(Convolution2D(128, 3, 1, border_mode=\"same\", activation=\"relu\"))\n",
    "    cnn.add(Convolution2D(128, 3, 1, border_mode=\"same\", activation=\"relu\"))\n",
    "    cnn.add(MaxPooling2D(pool_size=(2,1)))\n",
    "\n",
    "    cnn.add(Convolution2D(256, 3, 1, border_mode=\"same\", activation=\"relu\"))\n",
    "    cnn.add(Convolution2D(256, 3, 1, border_mode=\"same\", activation=\"relu\"))\n",
    "    cnn.add(Convolution2D(256, 3, 1, border_mode=\"same\", activation=\"relu\"))\n",
    "    cnn.add(MaxPooling2D(pool_size=(2,1)))\n",
    "\n",
    "    cnn.add(Flatten())\n",
    "    cnn.add(Dense(1024, activation=\"relu\"))\n",
    "    cnn.add(Dropout(PARAMETERS['dropout'])) #0.5\n",
    "    cnn.add(Dense(PARAMETERS['n_classes'], activation=\"softmax\"))\n",
    "\n",
    "    \n",
    "    # define optimizer and objective, COMPILE cnn\n",
    "    compile_step = cnn.compile(loss=\"categorical_crossentropy\", optimizer=Adam(lr=PARAMETERS['learning_rate'], beta_1=0.9, beta_2=0.999, epsilon=1e-08, decay=PARAMETERS['decay_value'][i]),  metrics=['accuracy'])\n",
    "    #default parameters coming from the paper: https://arxiv.org/abs/1412.6980v8\n",
    "\n",
    "    #Store in dictionaries\n",
    "    results = {}\n",
    "    out = {}  \n",
    "    \n",
    "    #### TRAIN ####\n",
    "    #_DropOut05_data_weights_1980Data_best_DecayValue_\n",
    "    print('decay val CNN', PARAMETERS['decay_value'][i])\n",
    "    filepath =\"/scratch/dwaithe/\" + str(weights_file)+ \"DecValue_\" + str(PARAMETERS['decay_value'][i]) + \"NIteration_\" + str(iteration) + \".hdf5\"\n",
    "    checkpoint = ModelCheckpoint(filepath, monitor='val_acc', verbose=1, save_best_only=True, mode='max')\n",
    "    callbacks_list = [checkpoint]\n",
    "     \n",
    "    \n",
    "    # FIT the model\n",
    "    #results = cnn.fit(X, y, batch_size=PARAMETERS['batch_size'], nb_epoch=PARAMETERS['n_epoch'], verbose=0, callbacks=callbacks_list, validation_data=(test_dt_reshape , test_cl_reshape)) \n",
    "    results = cnn.fit(X, y, validation_split=0.33, nb_epoch=PARAMETERS['n_epoch'], batch_size=PARAMETERS['batch_size'], callbacks=callbacks_list, verbose=0)\n",
    "    #results = cnn.fit(X, y, nb_epoch=100, verbose=2) \n",
    "    \n",
    "    #EVALUATION code which makes prediction\n",
    "    out = cnn.predict(test_dt_reshape.reshape((n_testing_data, Int_profile_len,1, 1)))    \n",
    "    cnn.save('/scratch/dwaithe/'+str(Image_name)+'.h5')\n",
    "   \n",
    "\n",
    "    # save THE MODEL STRUCTURE as YAML file\n",
    "    model_yaml = cnn.to_yaml()\n",
    "    with open(\"model.yaml\", \"w\") as yaml_file:\n",
    "        yaml_file.write(model_yaml)    \n",
    "\n",
    "    \n",
    "    return results, out"
   ]
  },
  {
   "cell_type": "code",
   "execution_count": 34,
   "metadata": {
    "collapsed": false,
    "deletable": true,
    "editable": true
   },
   "outputs": [],
   "source": [
    "#Save LOSS and ACCURACY curve in txt files\n",
    "def Save(RESULTS, PARAMETERS, filename):\n",
    "    #SAVE LOSS\n",
    "    #filename = input('Insert the file name to save. Put between \" \" : ') \n",
    "    \n",
    "    for iteration in range(PARAMETERS['n_iteration']):\n",
    "        for i in range(len(PARAMETERS['decay_value'])):\n",
    "            np.savetxt(\"/scratch/dwaithe/\"+ str(filename)+ \"LOSS_Iter_\"+ str(iteration)+ \"_DecVal_\" +str(PARAMETERS['decay_value'][i])+ \".txt\", RESULTS[iteration][i].history['loss'], newline='\\r\\n')\n",
    "\n",
    "    #SAVE ACCURACY\n",
    "    for iteration in range(PARAMETERS['n_iteration']):\n",
    "        for i in range(len(PARAMETERS['decay_value'])):\n",
    "            np.savetxt(\"/scratch/dwaithe/\" + str(filename)+ \"ACC_Iter_\" + str(iteration)+ \"_DecVal_\" +str(PARAMETERS['decay_value'][i]) + \".txt\", RESULTS[iteration][i].history['acc'], newline='\\r\\n')\n",
    "\n",
    "    #SAVE VAL_LOSS\n",
    "    for iteration in range(PARAMETERS['n_iteration']):\n",
    "        for i in range(len(PARAMETERS['decay_value'])):\n",
    "            np.savetxt(\"/scratch/dwaithe/\" + str(filename)+ \"VAL_LOSS_Iter_\"+ str(iteration)+ \"_DecVal_\"+str(PARAMETERS['decay_value'][i]) + \".txt\", RESULTS[iteration][i].history['val_loss'], newline='\\r\\n')\n",
    "\n",
    "    #SAVE VAL_ACC\n",
    "    for iteration in range(PARAMETERS['n_iteration']):\n",
    "        for i in range(len(PARAMETERS['decay_value'])):\n",
    "            np.savetxt(\"/scratch/dwaithe/\" + str(filename)+ \"VAL_ACC_Iter_\" + str(iteration)+ \"_DecVal_\"+str(PARAMETERS['decay_value'][i]) + \".txt\", RESULTS[iteration][i].history['val_acc'], newline='\\r\\n')\n",
    "\n",
    "    return"
   ]
  },
  {
   "cell_type": "code",
   "execution_count": 162,
   "metadata": {
    "collapsed": false,
    "deletable": true,
    "editable": true
   },
   "outputs": [
    {
     "name": "stdout",
     "output_type": "stream",
     "text": [
      "Enter file format: pickle=0 or mat=1. Format:1\n",
      "Insert name of the file for the weights between \" \" : \"t\"\n",
      "Insert the file name to save LOSS AND ACCURACY. Put between \" \" : \"t\"\n",
      "Insert name of the file for the images and CNN model, between \" \" : \"t\"\n",
      "('Intensity curve shape =', (990, 900))\n",
      "('Classes shape =', (990,))\n",
      "Do you want to duplicate the curves adding noise? Yes = 1; No = 0. Answer: 1\n"
     ]
    },
    {
     "data": {
      "image/png": "[encoded data removed]",
      "text/plain": [
       "<matplotlib.figure.Figure at 0x3f589090>"
      ]
     },
     "metadata": {},
     "output_type": "display_data"
    },
    {
     "name": "stdout",
     "output_type": "stream",
     "text": [
      "('total classes = ', (1980,))\n",
      "Number of data to use for training the CNN network: 1800\n",
      "('here', 180)\n",
      "('Iteration: ', 0)\n",
      "('test_dt_reshape', (180, 128))\n",
      "('decay value = ', 0.01)\n",
      "('decay val CNN', 0.01)\n"
     ]
    },
    {
     "ename": "KeyboardInterrupt",
     "evalue": "",
     "output_type": "error",
     "traceback": [
      "\u001b[0;31m---------------------------------------------------------------------------\u001b[0m",
      "\u001b[0;31mKeyboardInterrupt\u001b[0m                         Traceback (most recent call last)",
      "\u001b[0;32m<ipython-input-162-93b831f9b192>\u001b[0m in \u001b[0;36m<module>\u001b[0;34m()\u001b[0m\n\u001b[1;32m     69\u001b[0m \u001b[0;34m\u001b[0m\u001b[0m\n\u001b[1;32m     70\u001b[0m     \u001b[0;31m#Run the CNN\u001b[0m\u001b[0;34m\u001b[0m\u001b[0;34m\u001b[0m\u001b[0m\n\u001b[0;32m---> 71\u001b[0;31m     \u001b[0mRESULTS\u001b[0m\u001b[0;34m,\u001b[0m \u001b[0mout\u001b[0m\u001b[0;34m,\u001b[0m \u001b[0mtest_dt\u001b[0m\u001b[0;34m,\u001b[0m \u001b[0mtest_cl\u001b[0m \u001b[0;34m=\u001b[0m \u001b[0mrun_CNN\u001b[0m\u001b[0;34m(\u001b[0m\u001b[0mdata_downsample\u001b[0m\u001b[0;34m,\u001b[0m \u001b[0mClasses\u001b[0m\u001b[0;34m,\u001b[0m \u001b[0mtotal\u001b[0m\u001b[0;34m,\u001b[0m \u001b[0mweights_file\u001b[0m\u001b[0;34m,\u001b[0m \u001b[0mPARAMETERS\u001b[0m\u001b[0;34m)\u001b[0m\u001b[0;34m\u001b[0m\u001b[0m\n\u001b[0m\u001b[1;32m     72\u001b[0m \u001b[0;34m\u001b[0m\u001b[0m\n\u001b[1;32m     73\u001b[0m     \u001b[0;31m#Save Loss, Validation Loss, Accuracy, Validation Accuracy\u001b[0m\u001b[0;34m\u001b[0m\u001b[0;34m\u001b[0m\u001b[0m\n",
      "\u001b[0;32m<ipython-input-161-d454de3263ad>\u001b[0m in \u001b[0;36mrun_CNN\u001b[0;34m(Data, Classes, total, weights_file, PARAMETERS)\u001b[0m\n\u001b[1;32m     92\u001b[0m         \u001b[0;32mfor\u001b[0m \u001b[0mi\u001b[0m \u001b[0;32min\u001b[0m \u001b[0mrange\u001b[0m\u001b[0;34m(\u001b[0m\u001b[0;36m0\u001b[0m\u001b[0;34m,\u001b[0m\u001b[0mlen\u001b[0m\u001b[0;34m(\u001b[0m\u001b[0mPARAMETERS\u001b[0m\u001b[0;34m[\u001b[0m\u001b[0;34m'decay_value'\u001b[0m\u001b[0;34m]\u001b[0m\u001b[0;34m)\u001b[0m\u001b[0;34m)\u001b[0m\u001b[0;34m:\u001b[0m\u001b[0;34m\u001b[0m\u001b[0m\n\u001b[1;32m     93\u001b[0m             \u001b[0;32mprint\u001b[0m\u001b[0;34m(\u001b[0m\u001b[0;34m'decay value = '\u001b[0m\u001b[0;34m,\u001b[0m \u001b[0mPARAMETERS\u001b[0m\u001b[0;34m[\u001b[0m\u001b[0;34m'decay_value'\u001b[0m\u001b[0;34m]\u001b[0m\u001b[0;34m[\u001b[0m\u001b[0mi\u001b[0m\u001b[0;34m]\u001b[0m\u001b[0;34m)\u001b[0m\u001b[0;34m\u001b[0m\u001b[0m\n\u001b[0;32m---> 94\u001b[0;31m             \u001b[0mRESULTS\u001b[0m\u001b[0;34m[\u001b[0m\u001b[0miteration\u001b[0m\u001b[0;34m]\u001b[0m\u001b[0;34m[\u001b[0m\u001b[0mi\u001b[0m\u001b[0;34m]\u001b[0m\u001b[0;34m,\u001b[0m \u001b[0mout\u001b[0m\u001b[0;34m[\u001b[0m\u001b[0miteration\u001b[0m\u001b[0;34m]\u001b[0m\u001b[0;34m[\u001b[0m\u001b[0mi\u001b[0m\u001b[0;34m]\u001b[0m \u001b[0;34m=\u001b[0m \u001b[0mCNN\u001b[0m\u001b[0;34m(\u001b[0m\u001b[0mX\u001b[0m\u001b[0;34m,\u001b[0m \u001b[0my\u001b[0m\u001b[0;34m,\u001b[0m \u001b[0mtest_dt_reshape\u001b[0m\u001b[0;34m,\u001b[0m \u001b[0mtest_cl_reshape\u001b[0m\u001b[0;34m,\u001b[0m \u001b[0mn_testing_data\u001b[0m\u001b[0;34m,\u001b[0m \u001b[0mInt_profile_len\u001b[0m\u001b[0;34m,\u001b[0m \u001b[0mweights_file\u001b[0m\u001b[0;34m,\u001b[0m \u001b[0mPARAMETERS\u001b[0m\u001b[0;34m,\u001b[0m \u001b[0mi\u001b[0m\u001b[0;34m,\u001b[0m \u001b[0miteration\u001b[0m\u001b[0;34m)\u001b[0m\u001b[0;34m\u001b[0m\u001b[0m\n\u001b[0m\u001b[1;32m     95\u001b[0m \u001b[0;34m\u001b[0m\u001b[0m\n\u001b[1;32m     96\u001b[0m \u001b[0;34m\u001b[0m\u001b[0m\n",
      "\u001b[0;32m<ipython-input-91-9ddd72ce11fa>\u001b[0m in \u001b[0;36mCNN\u001b[0;34m(X, y, test_dt_reshape, test_cl_reshape, n_testing_data, Int_profile_len, weights_file, PARAMETERS, i, iteration)\u001b[0m\n\u001b[1;32m     42\u001b[0m     \u001b[0;31m# FIT the model\u001b[0m\u001b[0;34m\u001b[0m\u001b[0;34m\u001b[0m\u001b[0m\n\u001b[1;32m     43\u001b[0m     \u001b[0;31m#results = cnn.fit(X, y, batch_size=PARAMETERS['batch_size'], nb_epoch=PARAMETERS['n_epoch'], verbose=0, callbacks=callbacks_list, validation_data=(test_dt_reshape , test_cl_reshape))\u001b[0m\u001b[0;34m\u001b[0m\u001b[0;34m\u001b[0m\u001b[0m\n\u001b[0;32m---> 44\u001b[0;31m     \u001b[0mresults\u001b[0m \u001b[0;34m=\u001b[0m \u001b[0mcnn\u001b[0m\u001b[0;34m.\u001b[0m\u001b[0mfit\u001b[0m\u001b[0;34m(\u001b[0m\u001b[0mX\u001b[0m\u001b[0;34m,\u001b[0m \u001b[0my\u001b[0m\u001b[0;34m,\u001b[0m \u001b[0mvalidation_split\u001b[0m\u001b[0;34m=\u001b[0m\u001b[0;36m0.33\u001b[0m\u001b[0;34m,\u001b[0m \u001b[0mnb_epoch\u001b[0m\u001b[0;34m=\u001b[0m\u001b[0mPARAMETERS\u001b[0m\u001b[0;34m[\u001b[0m\u001b[0;34m'n_epoch'\u001b[0m\u001b[0;34m]\u001b[0m\u001b[0;34m,\u001b[0m \u001b[0mbatch_size\u001b[0m\u001b[0;34m=\u001b[0m\u001b[0mPARAMETERS\u001b[0m\u001b[0;34m[\u001b[0m\u001b[0;34m'batch_size'\u001b[0m\u001b[0;34m]\u001b[0m\u001b[0;34m,\u001b[0m \u001b[0mcallbacks\u001b[0m\u001b[0;34m=\u001b[0m\u001b[0mcallbacks_list\u001b[0m\u001b[0;34m,\u001b[0m \u001b[0mverbose\u001b[0m\u001b[0;34m=\u001b[0m\u001b[0;36m0\u001b[0m\u001b[0;34m)\u001b[0m\u001b[0;34m\u001b[0m\u001b[0m\n\u001b[0m\u001b[1;32m     45\u001b[0m     \u001b[0;31m#results = cnn.fit(X, y, nb_epoch=100, verbose=2)\u001b[0m\u001b[0;34m\u001b[0m\u001b[0;34m\u001b[0m\u001b[0m\n\u001b[1;32m     46\u001b[0m \u001b[0;34m\u001b[0m\u001b[0m\n",
      "\u001b[0;32m/home/molimm2/dwaithe/.local/lib/python2.7/site-packages/keras/models.pyc\u001b[0m in \u001b[0;36mfit\u001b[0;34m(self, x, y, batch_size, nb_epoch, verbose, callbacks, validation_split, validation_data, shuffle, class_weight, sample_weight, **kwargs)\u001b[0m\n\u001b[1;32m    662\u001b[0m                               \u001b[0mshuffle\u001b[0m\u001b[0;34m=\u001b[0m\u001b[0mshuffle\u001b[0m\u001b[0;34m,\u001b[0m\u001b[0;34m\u001b[0m\u001b[0m\n\u001b[1;32m    663\u001b[0m                               \u001b[0mclass_weight\u001b[0m\u001b[0;34m=\u001b[0m\u001b[0mclass_weight\u001b[0m\u001b[0;34m,\u001b[0m\u001b[0;34m\u001b[0m\u001b[0m\n\u001b[0;32m--> 664\u001b[0;31m                               sample_weight=sample_weight)\n\u001b[0m\u001b[1;32m    665\u001b[0m \u001b[0;34m\u001b[0m\u001b[0m\n\u001b[1;32m    666\u001b[0m     def evaluate(self, x, y, batch_size=32, verbose=1,\n",
      "\u001b[0;32m/home/molimm2/dwaithe/.local/lib/python2.7/site-packages/keras/engine/training.pyc\u001b[0m in \u001b[0;36mfit\u001b[0;34m(self, x, y, batch_size, nb_epoch, verbose, callbacks, validation_split, validation_data, shuffle, class_weight, sample_weight, initial_epoch)\u001b[0m\n\u001b[1;32m   1141\u001b[0m                               \u001b[0mval_f\u001b[0m\u001b[0;34m=\u001b[0m\u001b[0mval_f\u001b[0m\u001b[0;34m,\u001b[0m \u001b[0mval_ins\u001b[0m\u001b[0;34m=\u001b[0m\u001b[0mval_ins\u001b[0m\u001b[0;34m,\u001b[0m \u001b[0mshuffle\u001b[0m\u001b[0;34m=\u001b[0m\u001b[0mshuffle\u001b[0m\u001b[0;34m,\u001b[0m\u001b[0;34m\u001b[0m\u001b[0m\n\u001b[1;32m   1142\u001b[0m                               \u001b[0mcallback_metrics\u001b[0m\u001b[0;34m=\u001b[0m\u001b[0mcallback_metrics\u001b[0m\u001b[0;34m,\u001b[0m\u001b[0;34m\u001b[0m\u001b[0m\n\u001b[0;32m-> 1143\u001b[0;31m                               initial_epoch=initial_epoch)\n\u001b[0m\u001b[1;32m   1144\u001b[0m \u001b[0;34m\u001b[0m\u001b[0m\n\u001b[1;32m   1145\u001b[0m     \u001b[0;32mdef\u001b[0m \u001b[0mevaluate\u001b[0m\u001b[0;34m(\u001b[0m\u001b[0mself\u001b[0m\u001b[0;34m,\u001b[0m \u001b[0mx\u001b[0m\u001b[0;34m,\u001b[0m \u001b[0my\u001b[0m\u001b[0;34m,\u001b[0m \u001b[0mbatch_size\u001b[0m\u001b[0;34m=\u001b[0m\u001b[0;36m32\u001b[0m\u001b[0;34m,\u001b[0m \u001b[0mverbose\u001b[0m\u001b[0;34m=\u001b[0m\u001b[0;36m1\u001b[0m\u001b[0;34m,\u001b[0m \u001b[0msample_weight\u001b[0m\u001b[0;34m=\u001b[0m\u001b[0mNone\u001b[0m\u001b[0;34m)\u001b[0m\u001b[0;34m:\u001b[0m\u001b[0;34m\u001b[0m\u001b[0m\n",
      "\u001b[0;32m/home/molimm2/dwaithe/.local/lib/python2.7/site-packages/keras/engine/training.pyc\u001b[0m in \u001b[0;36m_fit_loop\u001b[0;34m(self, f, ins, out_labels, batch_size, nb_epoch, verbose, callbacks, val_f, val_ins, shuffle, callback_metrics, initial_epoch)\u001b[0m\n\u001b[1;32m    841\u001b[0m                 \u001b[0mbatch_logs\u001b[0m\u001b[0;34m[\u001b[0m\u001b[0;34m'size'\u001b[0m\u001b[0;34m]\u001b[0m \u001b[0;34m=\u001b[0m \u001b[0mlen\u001b[0m\u001b[0;34m(\u001b[0m\u001b[0mbatch_ids\u001b[0m\u001b[0;34m)\u001b[0m\u001b[0;34m\u001b[0m\u001b[0m\n\u001b[1;32m    842\u001b[0m                 \u001b[0mcallbacks\u001b[0m\u001b[0;34m.\u001b[0m\u001b[0mon_batch_begin\u001b[0m\u001b[0;34m(\u001b[0m\u001b[0mbatch_index\u001b[0m\u001b[0;34m,\u001b[0m \u001b[0mbatch_logs\u001b[0m\u001b[0;34m)\u001b[0m\u001b[0;34m\u001b[0m\u001b[0m\n\u001b[0;32m--> 843\u001b[0;31m                 \u001b[0mouts\u001b[0m \u001b[0;34m=\u001b[0m \u001b[0mf\u001b[0m\u001b[0;34m(\u001b[0m\u001b[0mins_batch\u001b[0m\u001b[0;34m)\u001b[0m\u001b[0;34m\u001b[0m\u001b[0m\n\u001b[0m\u001b[1;32m    844\u001b[0m                 \u001b[0;32mif\u001b[0m \u001b[0;32mnot\u001b[0m \u001b[0misinstance\u001b[0m\u001b[0;34m(\u001b[0m\u001b[0mouts\u001b[0m\u001b[0;34m,\u001b[0m \u001b[0mlist\u001b[0m\u001b[0;34m)\u001b[0m\u001b[0;34m:\u001b[0m\u001b[0;34m\u001b[0m\u001b[0m\n\u001b[1;32m    845\u001b[0m                     \u001b[0mouts\u001b[0m \u001b[0;34m=\u001b[0m \u001b[0;34m[\u001b[0m\u001b[0mouts\u001b[0m\u001b[0;34m]\u001b[0m\u001b[0;34m\u001b[0m\u001b[0m\n",
      "\u001b[0;32m/home/molimm2/dwaithe/.local/lib/python2.7/site-packages/keras/backend/tensorflow_backend.pyc\u001b[0m in \u001b[0;36m__call__\u001b[0;34m(self, inputs)\u001b[0m\n\u001b[1;32m   1601\u001b[0m         \u001b[0msession\u001b[0m \u001b[0;34m=\u001b[0m \u001b[0mget_session\u001b[0m\u001b[0;34m(\u001b[0m\u001b[0;34m)\u001b[0m\u001b[0;34m\u001b[0m\u001b[0m\n\u001b[1;32m   1602\u001b[0m         updated = session.run(self.outputs + [self.updates_op],\n\u001b[0;32m-> 1603\u001b[0;31m                               feed_dict=feed_dict)\n\u001b[0m\u001b[1;32m   1604\u001b[0m         \u001b[0;32mreturn\u001b[0m \u001b[0mupdated\u001b[0m\u001b[0;34m[\u001b[0m\u001b[0;34m:\u001b[0m\u001b[0mlen\u001b[0m\u001b[0;34m(\u001b[0m\u001b[0mself\u001b[0m\u001b[0;34m.\u001b[0m\u001b[0moutputs\u001b[0m\u001b[0;34m)\u001b[0m\u001b[0;34m]\u001b[0m\u001b[0;34m\u001b[0m\u001b[0m\n\u001b[1;32m   1605\u001b[0m \u001b[0;34m\u001b[0m\u001b[0m\n",
      "\u001b[0;32m/home/molimm2/dwaithe/.local/lib/python2.7/site-packages/tensorflow/python/client/session.pyc\u001b[0m in \u001b[0;36mrun\u001b[0;34m(self, fetches, feed_dict, options, run_metadata)\u001b[0m\n\u001b[1;32m    764\u001b[0m     \u001b[0;32mtry\u001b[0m\u001b[0;34m:\u001b[0m\u001b[0;34m\u001b[0m\u001b[0m\n\u001b[1;32m    765\u001b[0m       result = self._run(None, fetches, feed_dict, options_ptr,\n\u001b[0;32m--> 766\u001b[0;31m                          run_metadata_ptr)\n\u001b[0m\u001b[1;32m    767\u001b[0m       \u001b[0;32mif\u001b[0m \u001b[0mrun_metadata\u001b[0m\u001b[0;34m:\u001b[0m\u001b[0;34m\u001b[0m\u001b[0m\n\u001b[1;32m    768\u001b[0m         \u001b[0mproto_data\u001b[0m \u001b[0;34m=\u001b[0m \u001b[0mtf_session\u001b[0m\u001b[0;34m.\u001b[0m\u001b[0mTF_GetBuffer\u001b[0m\u001b[0;34m(\u001b[0m\u001b[0mrun_metadata_ptr\u001b[0m\u001b[0;34m)\u001b[0m\u001b[0;34m\u001b[0m\u001b[0m\n",
      "\u001b[0;32m/home/molimm2/dwaithe/.local/lib/python2.7/site-packages/tensorflow/python/client/session.pyc\u001b[0m in \u001b[0;36m_run\u001b[0;34m(self, handle, fetches, feed_dict, options, run_metadata)\u001b[0m\n\u001b[1;32m    962\u001b[0m     \u001b[0;32mif\u001b[0m \u001b[0mfinal_fetches\u001b[0m \u001b[0;32mor\u001b[0m \u001b[0mfinal_targets\u001b[0m\u001b[0;34m:\u001b[0m\u001b[0;34m\u001b[0m\u001b[0m\n\u001b[1;32m    963\u001b[0m       results = self._do_run(handle, final_targets, final_fetches,\n\u001b[0;32m--> 964\u001b[0;31m                              feed_dict_string, options, run_metadata)\n\u001b[0m\u001b[1;32m    965\u001b[0m     \u001b[0;32melse\u001b[0m\u001b[0;34m:\u001b[0m\u001b[0;34m\u001b[0m\u001b[0m\n\u001b[1;32m    966\u001b[0m       \u001b[0mresults\u001b[0m \u001b[0;34m=\u001b[0m \u001b[0;34m[\u001b[0m\u001b[0;34m]\u001b[0m\u001b[0;34m\u001b[0m\u001b[0m\n",
      "\u001b[0;32m/home/molimm2/dwaithe/.local/lib/python2.7/site-packages/tensorflow/python/client/session.pyc\u001b[0m in \u001b[0;36m_do_run\u001b[0;34m(self, handle, target_list, fetch_list, feed_dict, options, run_metadata)\u001b[0m\n\u001b[1;32m   1012\u001b[0m     \u001b[0;32mif\u001b[0m \u001b[0mhandle\u001b[0m \u001b[0;32mis\u001b[0m \u001b[0mNone\u001b[0m\u001b[0;34m:\u001b[0m\u001b[0;34m\u001b[0m\u001b[0m\n\u001b[1;32m   1013\u001b[0m       return self._do_call(_run_fn, self._session, feed_dict, fetch_list,\n\u001b[0;32m-> 1014\u001b[0;31m                            target_list, options, run_metadata)\n\u001b[0m\u001b[1;32m   1015\u001b[0m     \u001b[0;32melse\u001b[0m\u001b[0;34m:\u001b[0m\u001b[0;34m\u001b[0m\u001b[0m\n\u001b[1;32m   1016\u001b[0m       return self._do_call(_prun_fn, self._session, handle, feed_dict,\n",
      "\u001b[0;32m/home/molimm2/dwaithe/.local/lib/python2.7/site-packages/tensorflow/python/client/session.pyc\u001b[0m in \u001b[0;36m_do_call\u001b[0;34m(self, fn, *args)\u001b[0m\n\u001b[1;32m   1019\u001b[0m   \u001b[0;32mdef\u001b[0m \u001b[0m_do_call\u001b[0m\u001b[0;34m(\u001b[0m\u001b[0mself\u001b[0m\u001b[0;34m,\u001b[0m \u001b[0mfn\u001b[0m\u001b[0;34m,\u001b[0m \u001b[0;34m*\u001b[0m\u001b[0margs\u001b[0m\u001b[0;34m)\u001b[0m\u001b[0;34m:\u001b[0m\u001b[0;34m\u001b[0m\u001b[0m\n\u001b[1;32m   1020\u001b[0m     \u001b[0;32mtry\u001b[0m\u001b[0;34m:\u001b[0m\u001b[0;34m\u001b[0m\u001b[0m\n\u001b[0;32m-> 1021\u001b[0;31m       \u001b[0;32mreturn\u001b[0m \u001b[0mfn\u001b[0m\u001b[0;34m(\u001b[0m\u001b[0;34m*\u001b[0m\u001b[0margs\u001b[0m\u001b[0;34m)\u001b[0m\u001b[0;34m\u001b[0m\u001b[0m\n\u001b[0m\u001b[1;32m   1022\u001b[0m     \u001b[0;32mexcept\u001b[0m \u001b[0merrors\u001b[0m\u001b[0;34m.\u001b[0m\u001b[0mOpError\u001b[0m \u001b[0;32mas\u001b[0m \u001b[0me\u001b[0m\u001b[0;34m:\u001b[0m\u001b[0;34m\u001b[0m\u001b[0m\n\u001b[1;32m   1023\u001b[0m       \u001b[0mmessage\u001b[0m \u001b[0;34m=\u001b[0m \u001b[0mcompat\u001b[0m\u001b[0;34m.\u001b[0m\u001b[0mas_text\u001b[0m\u001b[0;34m(\u001b[0m\u001b[0me\u001b[0m\u001b[0;34m.\u001b[0m\u001b[0mmessage\u001b[0m\u001b[0;34m)\u001b[0m\u001b[0;34m\u001b[0m\u001b[0m\n",
      "\u001b[0;32m/home/molimm2/dwaithe/.local/lib/python2.7/site-packages/tensorflow/python/client/session.pyc\u001b[0m in \u001b[0;36m_run_fn\u001b[0;34m(session, feed_dict, fetch_list, target_list, options, run_metadata)\u001b[0m\n\u001b[1;32m   1001\u001b[0m         return tf_session.TF_Run(session, options,\n\u001b[1;32m   1002\u001b[0m                                  \u001b[0mfeed_dict\u001b[0m\u001b[0;34m,\u001b[0m \u001b[0mfetch_list\u001b[0m\u001b[0;34m,\u001b[0m \u001b[0mtarget_list\u001b[0m\u001b[0;34m,\u001b[0m\u001b[0;34m\u001b[0m\u001b[0m\n\u001b[0;32m-> 1003\u001b[0;31m                                  status, run_metadata)\n\u001b[0m\u001b[1;32m   1004\u001b[0m \u001b[0;34m\u001b[0m\u001b[0m\n\u001b[1;32m   1005\u001b[0m     \u001b[0;32mdef\u001b[0m \u001b[0m_prun_fn\u001b[0m\u001b[0;34m(\u001b[0m\u001b[0msession\u001b[0m\u001b[0;34m,\u001b[0m \u001b[0mhandle\u001b[0m\u001b[0;34m,\u001b[0m \u001b[0mfeed_dict\u001b[0m\u001b[0;34m,\u001b[0m \u001b[0mfetch_list\u001b[0m\u001b[0;34m)\u001b[0m\u001b[0;34m:\u001b[0m\u001b[0;34m\u001b[0m\u001b[0m\n",
      "\u001b[0;31mKeyboardInterrupt\u001b[0m: "
     ]
    }
   ],
   "source": [
    "#########################  MAIN  ###################################\n",
    "import time\n",
    "start = time.time()\n",
    "\n",
    "PARAMETERS = CNN_parameters()\n",
    "\n",
    "#Choose names for files\n",
    "file_format = input(\"Enter file format: pickle=0 or mat=1. Format:\")\n",
    "weights_file = input('Insert name of the file for the weights between \" \" : ')\n",
    "filename = input('Insert the file name to save LOSS AND ACCURACY. Put between \" \" : ')\n",
    "Image_name = input('Insert name of the file for the images and CNN model, between \" \" : ')\n",
    "\n",
    "### Reading Pickle data or .mat data type\n",
    "\n",
    "################################## PICKLE DATA ########################################\n",
    "### lOAD THE DATA STORING THEM IN A DICTIONARY\n",
    "if file_format == 0:\n",
    "    for file in os.listdir( dataDir ):\n",
    "        to_export = pickle.load( open( dataDir+file , \"rb\" ))\n",
    "\n",
    "    Data = to_export['data'] \n",
    "    Classes = to_export['classes']\n",
    "    total = len(Data)\n",
    "    Int_profile_len = len(Data[0])   \n",
    "      \n",
    "    #Run the CNN\n",
    "    RESULTS, test_dt, test_cl = run_CNN(Data, Classes, total, weights_file, PARAMETERS)\n",
    "\n",
    "    \n",
    "    #Save Loss, Validation Loss, Accuracy, Validation Accuracy\n",
    "    Save(RESULTS, n_iteration, filename)    \n",
    "\n",
    "############################### .MAT DATA ########################################\n",
    "elif file_format == 1:    # BE CAREFUL: in spyder3 is '1'\n",
    "    \n",
    "    \n",
    "    ### lOAD THE DATA STORING THEM IN A DICTIONARY ###\n",
    "    N_of_file =len(os.listdir( dataDir ))\n",
    "    Load_Data = {}  \n",
    "    for i in range(0, N_of_file):  \n",
    "        Load_Data[i] = {}  #Dictionary for a single workspace\n",
    "    \n",
    "    i = 0\n",
    "    for file in os.listdir( dataDir ):\n",
    "        Load_Data[i] =  scipy.io.loadmat( dataDir+file )\n",
    "        i = i+1    \n",
    "    \n",
    "    #### Define another dictionary for storing intensity curves and classes ### \n",
    "    Intensity, Classes, Int_curve_len, total = data_dict(Load_Data)\n",
    "    \n",
    "    ### Duplicate data adding noise ### \n",
    "    answer = input('Do you want to duplicate the curves adding noise? Yes = 1; No = 0. Answer: ')\n",
    "    if answer == 1:\n",
    "        Intensity, Classes, total = duplicate_data(total, Intensity, Classes, Int_curve_len)\n",
    "        n_training_data = input('Number of data to use for training the CNN network: ')  #1800        \n",
    "    elif answer == 0:\n",
    "        n_training_data = PARAMETERS['n_training_data'] #input('Number of data to use for training the CNN network: ') #800\n",
    "       \n",
    "    ### Downsampling\n",
    "    data_downsample, Int_profile_len = downsample(Intensity, PARAMETERS)\n",
    "    #fig, ax = plt.subplots()\n",
    "    #ax.plot(data_downsample[16])\n",
    "    \n",
    "    #Check if there are typo errors for the classes (we only have 6 classes going from 0 to 5)\n",
    "    for i in range(len(Classes)):\n",
    "        if Classes[i] > 5:\n",
    "            print('more classes', i)\n",
    "            \n",
    "    \n",
    "    #Run the CNN\n",
    "    RESULTS, out, test_dt, test_cl = run_CNN(data_downsample, Classes, total, weights_file, PARAMETERS)\n",
    "                            \n",
    "    #Save Loss, Validation Loss, Accuracy, Validation Accuracy \n",
    "    Save(RESULTS, PARAMETERS, filename)\n",
    "    \n",
    "    end = time.time()\n",
    "    print('Time = ', end - start)"
   ]
  },
  {
   "cell_type": "code",
   "execution_count": 95,
   "metadata": {
    "collapsed": false,
    "deletable": true,
    "editable": true
   },
   "outputs": [
    {
     "data": {
      "image/png": "[encoded data removed]",
      "text/plain": [
       "<matplotlib.figure.Figure at 0x336a2590>"
      ]
     },
     "metadata": {},
     "output_type": "display_data"
    }
   ],
   "source": [
    "#######   MODIFY TXT FILE NAMES!!!!!!!!!!!!!!   ######\n",
    "\n",
    "#Plot LOSS and val_loss - all decay\n",
    "loss = {}\n",
    "val_loss = {}\n",
    "for k in range(len(PARAMETERS['decay_value'])):\n",
    "    loss[k] = np.zeros((PARAMETERS['n_iteration'], PARAMETERS['n_epoch'])) #MODIFY THE 20 TO BE WITH VARIABLE\n",
    "    val_loss[k] = np.zeros((PARAMETERS['n_iteration'], PARAMETERS['n_epoch']))\n",
    "\n",
    "loss_mean = np.zeros((len(PARAMETERS['decay_value']), PARAMETERS['n_epoch'] )) #rows = n. of epochs; columns = n. of decay values\n",
    "val_loss_mean = np.zeros((len(PARAMETERS['decay_value']), PARAMETERS['n_epoch'] ))\n",
    "\n",
    "\n",
    "for k in range(len(PARAMETERS['decay_value'])):   #scan along all the decay values\n",
    "    for iteration in range(PARAMETERS['n_iteration']): #scan along all the iterations\n",
    "        loss[k][iteration,:] = np.loadtxt(\"/scratch/dwaithe/\"+ str(filename)+ \"LOSS_Iter_\"+ str(iteration)+ \"_DecVal_\" + str(PARAMETERS['decay_value'][k])+ \".txt\")\n",
    "        val_loss[k][iteration,:] = np.loadtxt(\"/scratch/dwaithe/\"+ str(filename)+ \"VAL_LOSS_Iter_\"+ str(iteration)+ \"_DecVal_\" + str(PARAMETERS['decay_value'][k])+ \".txt\")\n",
    "        \n",
    "        #AVERAGE OF THE loss\n",
    "        loss_mean[k,:] = np.mean(loss[k], axis = 0) \n",
    "        #AVERAGE OF THE VAL_Loss\n",
    "        val_loss_mean[k,:] = np.mean(val_loss[k], axis = 0) \n",
    "         \n",
    "\n",
    "#PLOT\n",
    "fig, ax = plt.subplots()\n",
    "for i in range(len(PARAMETERS['decay_value'])):\n",
    "    ax.plot(loss_mean[i,:],'-', linewidth=2, label = 'Loss'+'Decay001') #)+str(decay_val[i]))\n",
    "    ax.plot(val_loss_mean[i,:],'o', ms=1, label = 'val_loss'+'Decay001') #+str(decay_val[i]))\n",
    "\n",
    "ax.set_xlabel('Epochs')\n",
    "ax.set_title('Average LOSS and VAL_LOSS')\n",
    "legend = plt.legend(loc='upper right', shadow=False, prop={'size':10})\n",
    "fig.savefig('/scratch/dwaithe/' + str(Image_name)+ 'LOSS_and_VAL_LOSS.png')"
   ]
  },
  {
   "cell_type": "code",
   "execution_count": 96,
   "metadata": {
    "collapsed": false
   },
   "outputs": [
    {
     "data": {
      "text/plain": [
       "1"
      ]
     },
     "execution_count": 96,
     "metadata": {},
     "output_type": "execute_result"
    }
   ],
   "source": []
  },
  {
   "cell_type": "code",
   "execution_count": 97,
   "metadata": {
    "collapsed": false,
    "deletable": true,
    "editable": true
   },
   "outputs": [
    {
     "data": {
      "image/png": "[encoded data removed]",
      "text/plain": [
       "<matplotlib.figure.Figure at 0x33693b90>"
      ]
     },
     "metadata": {},
     "output_type": "display_data"
    }
   ],
   "source": [
    "#######   MODIFY TXT FILE NAMES!!!!!!!!!!!!!!   ######\n",
    "\n",
    "#Plot ACC and val_acc - all decay\n",
    "acc = {}\n",
    "val_acc = {}\n",
    "for k in range(len(PARAMETERS['decay_value'])):\n",
    "    acc[k] = np.zeros((PARAMETERS['n_iteration'], PARAMETERS['n_epoch'])) #MODIFY THE 20 TO BE WITH VARIABLE\n",
    "    val_acc[k] = np.zeros((PARAMETERS['n_iteration'], PARAMETERS['n_epoch']))\n",
    "\n",
    "acc_mean = np.zeros((len(PARAMETERS['decay_value']), PARAMETERS['n_epoch'] )) #rows = n. of epochs; columns = n. of decay values\n",
    "val_acc_mean = np.zeros((len(PARAMETERS['decay_value']), PARAMETERS['n_epoch'] ))\n",
    "\n",
    "\n",
    "for k in range(len(PARAMETERS['decay_value'])):   #scan along all the decay values\n",
    "    for iteration in range(PARAMETERS['n_iteration']): #scan along all the iterations\n",
    "        acc[k][iteration,:] = np.loadtxt(\"/scratch/dwaithe/\"+ str(filename)+ \"ACC_Iter_\"+ str(iteration)+ \"_DecVal_\" + str(PARAMETERS['decay_value'][k])+ \".txt\")\n",
    "        val_acc[k][iteration,:] = np.loadtxt(\"/scratch/dwaithe/\"+ str(filename)+ \"VAL_ACC_Iter_\"+ str(iteration)+ \"_DecVal_\" + str(PARAMETERS['decay_value'][k])+ \".txt\")\n",
    "        \n",
    "        #AVERAGE OF THE ACC\n",
    "        acc_mean[k,:] = np.mean(acc[k], axis = 0) \n",
    "        #AVERAGE OF THE VAL_ACC\n",
    "        val_acc_mean[k,:] = np.mean(val_acc[k], axis = 0) \n",
    "         \n",
    "\n",
    "#PLOT\n",
    "fig, ax = plt.subplots()\n",
    "for i in range(len(PARAMETERS['decay_value'])):\n",
    "    ax.plot(acc_mean[i,:],'-', linewidth=2, label = 'Acc'+'Decay001') #)+str(decay_val[i]))\n",
    "    ax.plot(val_acc_mean[i,:],'o', ms=1, label = 'val_Acc'+'Decay001') #+str(decay_val[i]))\n",
    "\n",
    "ax.set_xlabel('Epochs')\n",
    "ax.set_title('Average ACC and VAL_ACC')\n",
    "legend = plt.legend(loc='upper right', shadow=False, prop={'size':10})\n",
    "fig.savefig('/scratch/dwaithe/' + str(Image_name)+ 'ACC_and_VAL_ACC.png')"
   ]
  },
  {
   "cell_type": "code",
   "execution_count": 49,
   "metadata": {
    "collapsed": false
   },
   "outputs": [
    {
     "data": {
      "text/plain": [
       "array([[  1.97388893e-12,   9.20789897e-01,   7.91802034e-02,\n",
       "          1.46761764e-07,   9.21183821e-15,   2.97227361e-05],\n",
       "       [  9.24829280e-09,   9.67846036e-01,   3.18225808e-02,\n",
       "          2.22402218e-06,   5.48882016e-11,   3.29209928e-04],\n",
       "       [  1.17756374e-08,   9.93581057e-01,   6.38052868e-03,\n",
       "          6.44881624e-08,   1.01966395e-12,   3.82763028e-05],\n",
       "       ..., \n",
       "       [  6.30092667e-03,   6.11640103e-02,   1.66011751e-02,\n",
       "          1.34724809e-03,   9.12419200e-01,   2.16742302e-03],\n",
       "       [  1.61625057e-15,   7.49863237e-02,   9.25013602e-01,\n",
       "          4.96699036e-12,   6.78946943e-24,   7.34094669e-08],\n",
       "       [  5.68732652e-08,   9.17106867e-01,   8.24447349e-02,\n",
       "          1.07470169e-05,   7.42873707e-10,   4.37485840e-04]], dtype=float32)"
      ]
     },
     "execution_count": 49,
     "metadata": {},
     "output_type": "execute_result"
    }
   ],
   "source": [
    "out[0][0]"
   ]
  },
  {
   "cell_type": "code",
   "execution_count": 98,
   "metadata": {
    "collapsed": false,
    "deletable": true,
    "editable": true
   },
   "outputs": [
    {
     "name": "stdout",
     "output_type": "stream",
     "text": [
      "[ 92.22222222   0.           0.           0.           0.        ]\n"
     ]
    }
   ],
   "source": [
    "percentage = np.zeros(1*5)\n",
    "k=0\n",
    "for i in range(len(PARAMETERS['decay_value'])):\n",
    "    for iteration in range(PARAMETERS['n_iteration']):\n",
    "    #print('Iteration = ', iteration)\n",
    "        #print('Decay value =', decay_val[i])\n",
    "        percentage[k] = float(np.sum(np.argmax(out[iteration][i],1)==test_cl[iteration]))/float(test_cl[iteration].shape[0])*100.0\n",
    "        #print('Prediction percentage', percentage)\n",
    "        k=k+1\n",
    "print(percentage)\n",
    "np.savetxt(\"/scratch/dwaithe/\"+ str(Image_name)+ \"_Prediction_percentage_NEW.txt\", percentage,  fmt='%.4e', newline='\\r\\n')\n"
   ]
  },
  {
   "cell_type": "code",
   "execution_count": 143,
   "metadata": {
    "collapsed": false
   },
   "outputs": [
    {
     "name": "stdout",
     "output_type": "stream",
     "text": [
      "('true class', array([ 1.,  1.,  1.,  1.,  1.,  4.,  2.,  1.,  2.,  2.,  2.,  1.,  2.,\n",
      "        1.,  1.,  1.,  1.,  1.,  1.,  1.,  1.,  1.,  1.,  1.,  4.,  1.,\n",
      "        2.,  2.,  2.,  1.,  1.,  1.,  1.,  1.,  1.,  1.,  1.,  2.,  4.,\n",
      "        1.,  1.,  1.,  1.,  1.,  1.,  2.,  1.,  1.,  1.,  1.,  1.,  1.,\n",
      "        1.,  1.,  1.,  4.,  1.,  1.,  1.,  2.,  1.,  4.,  1.,  2.,  1.,\n",
      "        1.,  1.,  1.,  1.,  2.,  1.,  2.,  4.,  2.,  1.,  2.,  1.,  1.,\n",
      "        2.,  1.,  1.,  1.,  1.,  1.,  1.,  1.,  1.,  1.,  4.,  1.,  1.,\n",
      "        1.,  1.,  2.,  2.,  4.,  1.,  1.,  1.,  1.,  1.,  1.,  4.,  1.,\n",
      "        2.,  4.,  1.,  1.,  2.,  1.,  1.,  1.,  1.,  2.,  4.,  1.,  4.,\n",
      "        1.,  1.,  1.,  1.,  1.,  2.,  1.,  2.,  2.,  4.,  1.,  1.,  1.,\n",
      "        1.,  4.,  1.,  1.,  1.,  2.,  4.,  1.,  1.,  1.,  4.,  1.,  1.,\n",
      "        1.,  4.,  1.,  1.,  1.,  2.,  4.,  2.,  1.,  1.,  1.,  4.,  4.,\n",
      "        4.,  2.,  1.,  4.,  1.,  4.,  1.,  1.,  1.,  1.,  2.,  2.,  1.,\n",
      "        1.,  1.,  1.,  1.,  1.,  4.,  2.,  1.,  1.,  1.,  1.]))\n"
     ]
    }
   ],
   "source": [
    "print('true class', test_cl[0])"
   ]
  },
  {
   "cell_type": "code",
   "execution_count": 148,
   "metadata": {
    "collapsed": false
   },
   "outputs": [
    {
     "name": "stdout",
     "output_type": "stream",
     "text": [
      "6\n",
      "8\n",
      "9\n",
      "10\n",
      "12\n",
      "26\n",
      "27\n",
      "28\n",
      "37\n",
      "45\n",
      "59\n",
      "63\n",
      "69\n",
      "71\n",
      "73\n",
      "75\n",
      "78\n",
      "93\n",
      "94\n",
      "104\n",
      "108\n",
      "113\n",
      "122\n",
      "124\n",
      "125\n",
      "135\n",
      "148\n",
      "150\n",
      "157\n",
      "166\n",
      "167\n",
      "175\n"
     ]
    }
   ],
   "source": [
    "for i in range(180):\n",
    "    if test_cl[0][i]== 2:\n",
    "        print i"
   ]
  },
  {
   "cell_type": "code",
   "execution_count": 154,
   "metadata": {
    "collapsed": false,
    "deletable": true,
    "editable": true
   },
   "outputs": [
    {
     "name": "stdout",
     "output_type": "stream",
     "text": [
      "('class probabilities', array([  4.53715393e-06,   8.01080763e-01,   1.90402508e-01,\n",
      "         9.06654052e-04,   7.99257771e-10,   7.60552147e-03], dtype=float32))\n",
      "('true class', 2.0)\n",
      "(180, 128, 1)\n"
     ]
    },
    {
     "data": {
      "image/png": "[encoded data removed]",
      "text/plain": [
       "<matplotlib.figure.Figure at 0x2920dfd0>"
      ]
     },
     "metadata": {},
     "output_type": "display_data"
    }
   ],
   "source": [
    "#All the class probabilities for each curve\n",
    "l = 175\n",
    "\n",
    "print('class probabilities', (out[0][0][l]))\n",
    "print('true class', test_cl[0][l])\n",
    "\n",
    "\n",
    "print(test_dt.shape)\n",
    "# Create plots with pre-defined labels.\n",
    "fig, ax = plt.subplots()\n",
    "for i in range(l,l+1):\n",
    "    if test_cl[0][l] == 1:\n",
    "        ax.plot(test_dt[i,:,0], label='Trig+Sing')\n",
    "    if test_cl[0][l] == 2:\n",
    "        ax.plot(test_dt[i,:,0], label='Trig+Osc')\n",
    "    if test_cl[0][l] == 3:\n",
    "        ax.plot(test_dt[i,:,0], label='Trig+Sust')\n",
    "    if test_cl[0][l] == 4:\n",
    "        ax.plot(test_dt[i,:,0], label='No-Trig')\n",
    "    if test_cl[0][l] == 5:\n",
    "        ax.plot(test_dt[i,:,0], label='Not Sure')\n",
    "    legend = plt.legend(loc='upper right', shadow=True, fontsize='x-large')"
   ]
  },
  {
   "cell_type": "code",
   "execution_count": 156,
   "metadata": {
    "collapsed": false
   },
   "outputs": [
    {
     "data": {
      "text/plain": [
       "[<matplotlib.lines.Line2D at 0x396bccd0>]"
      ]
     },
     "execution_count": 156,
     "metadata": {},
     "output_type": "execute_result"
    },
    {
     "data": {
      "image/png": "[encoded data removed]",
      "text/plain": [
       "<matplotlib.figure.Figure at 0x3952f110>"
      ]
     },
     "metadata": {},
     "output_type": "display_data"
    }
   ],
   "source": [
    "plot(Intensity[1975])"
   ]
  },
  {
   "cell_type": "code",
   "execution_count": null,
   "metadata": {
    "collapsed": false,
    "deletable": true,
    "editable": true
   },
   "outputs": [],
   "source": [
    "\"\"\"fig, ax = plt.subplots()\n",
    "ax.plot(RESULTS[4][0][0].history['acc'])\n",
    "ax.plot(RESULTS[4][1][0].history['acc'])\n",
    "ax.plot(RESULTS[4][2][0].history['acc'])\n",
    "\n",
    "ax.set_xlabel('Epochs')\n",
    "ax.set_title('Average LOSS and VAL_LOSS - 5 iterations - 200Epochs - Decay_0.001')\n",
    "legend = plt.legend(loc='upper right', shadow=True, fontsize='x-large')\n",
    "\"\"\"\n"
   ]
  },
  {
   "cell_type": "code",
   "execution_count": null,
   "metadata": {
    "collapsed": false,
    "deletable": true,
    "editable": true
   },
   "outputs": [],
   "source": [
    "print(test_dt.shape)"
   ]
  },
  {
   "cell_type": "code",
   "execution_count": null,
   "metadata": {
    "collapsed": false,
    "deletable": true,
    "editable": true
   },
   "outputs": [],
   "source": [
    "# Create plots with pre-defined labels.\n",
    "fig, ax = plt.subplots()\n",
    "for i in range(15,18):\n",
    "    if test_cl[0,i] == 1:\n",
    "        ax.plot(test_dt[i,:,0], label='Trig+Sing')\n",
    "    if test_cl[0,i] == 2:\n",
    "        ax.plot(test_dt[i,:,0], label='Trig+Osc')\n",
    "    if test_cl[0,i] == 3:\n",
    "        ax.plot(test_dt[i,:,0], label='Trig+Sust')\n",
    "    if test_cl[0,i] == 4:\n",
    "        ax.plot(test_dt[i,:,0], label='No-Trig')\n",
    "    if test_cl[0,i] == 5:\n",
    "        ax.plot(test_dt[i,:,0], label='Not Sure')\n",
    "    legend = plt.legend(loc='upper right', shadow=True, fontsize='x-large')\n"
   ]
  },
  {
   "cell_type": "code",
   "execution_count": null,
   "metadata": {
    "collapsed": true,
    "deletable": true,
    "editable": true
   },
   "outputs": [],
   "source": [
    "#Evaluation code which makes prediction\n",
    "#out = cnn.predict(test_dt.reshape((10000, 128,1, 1)))\n"
   ]
  },
  {
   "cell_type": "code",
   "execution_count": null,
   "metadata": {
    "collapsed": false,
    "deletable": true,
    "editable": true
   },
   "outputs": [],
   "source": [
    "#%pylab inline\n",
    "#print out[0]\n",
    "#print test_cl[0]\n",
    "\n",
    "#print float(np.sum(np.argmax(out,1)==test_cl))/float(test_cl.shape[0])*100.0"
   ]
  },
  {
   "cell_type": "code",
   "execution_count": null,
   "metadata": {
    "collapsed": false,
    "deletable": true,
    "editable": true
   },
   "outputs": [],
   "source": []
  },
  {
   "cell_type": "code",
   "execution_count": null,
   "metadata": {
    "collapsed": true,
    "deletable": true,
    "editable": true
   },
   "outputs": [],
   "source": []
  }
 ],
 "metadata": {
  "kernelspec": {
   "display_name": "Python 2",
   "language": "python",
   "name": "python2"
  },
  "language_info": {
   "codemirror_mode": {
    "name": "ipython",
    "version": 2
   },
   "file_extension": ".py",
   "mimetype": "text/x-python",
   "name": "python",
   "nbconvert_exporter": "python",
   "pygments_lexer": "ipython2",
   "version": "2.7.5"
  }
 },
 "nbformat": 4,
 "nbformat_minor": 2
}
